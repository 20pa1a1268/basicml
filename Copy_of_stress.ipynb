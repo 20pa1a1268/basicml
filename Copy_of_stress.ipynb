{
  "nbformat": 4,
  "nbformat_minor": 0,
  "metadata": {
    "colab": {
      "provenance": [],
      "include_colab_link": true
    },
    "kernelspec": {
      "name": "python3",
      "display_name": "Python 3"
    },
    "language_info": {
      "name": "python"
    }
  },
  "cells": [
    {
      "cell_type": "markdown",
      "metadata": {
        "id": "view-in-github",
        "colab_type": "text"
      },
      "source": [
        "<a href=\"https://colab.research.google.com/github/20pa1a1268/basicml/blob/main/Copy_of_stress.ipynb\" target=\"_parent\"><img src=\"https://colab.research.google.com/assets/colab-badge.svg\" alt=\"Open In Colab\"/></a>"
      ]
    },
    {
      "cell_type": "code",
      "execution_count": 5,
      "metadata": {
        "id": "8uJuI3MUJaxe"
      },
      "outputs": [],
      "source": [
        "import numpy as np # linear algebra\n",
        "import pandas as pd # data processing, CSV file I/O (e.g. pd.read_csv)\n",
        "from sklearn.feature_extraction.text import CountVectorizer\n",
        "from sklearn.tree import DecisionTreeClassifier\n",
        "from sklearn.ensemble import VotingClassifier\n",
        "from sklearn.metrics import confusion_matrix, accuracy_score,  classification_report"
      ]
    },
    {
      "cell_type": "code",
      "source": [
        "df = pd.read_csv('set2.csv', encoding='latin-1')\n",
        "df[\"FID\"]"
      ],
      "metadata": {
        "colab": {
          "base_uri": "https://localhost:8080/"
        },
        "id": "ej7aY4LNKKYS",
        "outputId": "7a7a9650-a985-4688-8778-7254b8da7476"
      },
      "execution_count": 6,
      "outputs": [
        {
          "output_type": "execute_result",
          "data": {
            "text/plain": [
              "0        853-779-238.5185467-17.50703998\n",
              "1        857-858-62.66999758-14.47982622\n",
              "2        790-783-157.8688262-21.40448992\n",
              "3        564-555-45.09365651-8.273289523\n",
              "4        778-775-52.30224246-10.91331722\n",
              "                      ...               \n",
              "49994    844-840-60.70597559-13.27512212\n",
              "49995    733-738-78.10166165-10.44881842\n",
              "49996     762-765-52.25012493-9.50995717\n",
              "49997    717-717-33.59767885-9.332227094\n",
              "49998     885-902-80.3400147-13.43424497\n",
              "Name: FID, Length: 49999, dtype: object"
            ]
          },
          "metadata": {},
          "execution_count": 6
        }
      ]
    },
    {
      "cell_type": "code",
      "source": [
        "df.fillna(value=1,inplace=True)\n",
        "df.isnull().sum()"
      ],
      "metadata": {
        "colab": {
          "base_uri": "https://localhost:8080/"
        },
        "id": "Ojyy3sZvOLv7",
        "outputId": "e28fff5d-e1e6-4592-9d0b-58684c54f1ea"
      },
      "execution_count": 7,
      "outputs": [
        {
          "output_type": "execute_result",
          "data": {
            "text/plain": [
              "MEANRR       0\n",
              "MEDIANRR     0\n",
              "SDRR         0\n",
              "RMSSD        0\n",
              "condition    0\n",
              "MEAN_RR      0\n",
              "MEDIAN_RR    0\n",
              "FID1         0\n",
              "FID          0\n",
              "dtype: int64"
            ]
          },
          "metadata": {},
          "execution_count": 7
        }
      ]
    },
    {
      "cell_type": "code",
      "source": [
        "def apply_results(condition):\n",
        "            if (condition == 'no stress'):\n",
        "                return 0  # No Stress\n",
        "            elif (condition == 'interruption' or condition==\"time pressure\"):\n",
        "                return 1  # Stress\n",
        "            else:\n",
        "                return 0\n",
        "df['results'] = df['condition'].apply(apply_results)\n",
        "x = df[\"FID\"]\n",
        "y=df[\"results\"]\n",
        "cv = CountVectorizer(lowercase=False, strip_accents='unicode', ngram_range=(1, 1))\n",
        "x = cv.fit_transform(df[\"FID\"])"
      ],
      "metadata": {
        "id": "zqMaLri9Kgf8"
      },
      "execution_count": 8,
      "outputs": []
    },
    {
      "cell_type": "code",
      "source": [
        "models = []\n",
        "from sklearn.model_selection import train_test_split\n",
        "X_train, X_test, y_train, y_test = train_test_split(x, y, test_size=0.20)\n",
        "X_train.shape, X_test.shape, y_train.shape"
      ],
      "metadata": {
        "colab": {
          "base_uri": "https://localhost:8080/"
        },
        "id": "NO576vKkKmUx",
        "outputId": "168fbb8b-5119-49e0-fcba-0cdeabae2560"
      },
      "execution_count": 9,
      "outputs": [
        {
          "output_type": "execute_result",
          "data": {
            "text/plain": [
              "((39999, 101224), (10000, 101224), (39999,))"
            ]
          },
          "metadata": {},
          "execution_count": 9
        }
      ]
    },
    {
      "cell_type": "code",
      "source": [
        "print(\"Naive Bayes\")\n",
        "from sklearn.naive_bayes import MultinomialNB\n",
        "NB = MultinomialNB()\n",
        "NB.fit(X_train, y_train)\n",
        "predict_nb = NB.predict(X_test)\n",
        "naivebayes = accuracy_score(y_test, predict_nb) * 100\n",
        "print(naivebayes)\n",
        "print(confusion_matrix(y_test, predict_nb))\n",
        "print(classification_report(y_test, predict_nb))\n",
        "models.append(('naive_bayes', NB))\n"
      ],
      "metadata": {
        "colab": {
          "base_uri": "https://localhost:8080/"
        },
        "id": "vWaVo9iCKt_T",
        "outputId": "be89edb7-cd9d-417d-c9b1-b9ea09818bfa"
      },
      "execution_count": 10,
      "outputs": [
        {
          "output_type": "stream",
          "name": "stdout",
          "text": [
            "Naive Bayes\n",
            "73.69\n",
            "[[4224 1176]\n",
            " [1455 3145]]\n",
            "              precision    recall  f1-score   support\n",
            "\n",
            "           0       0.74      0.78      0.76      5400\n",
            "           1       0.73      0.68      0.71      4600\n",
            "\n",
            "    accuracy                           0.74     10000\n",
            "   macro avg       0.74      0.73      0.73     10000\n",
            "weighted avg       0.74      0.74      0.74     10000\n",
            "\n"
          ]
        }
      ]
    },
    {
      "cell_type": "code",
      "source": [
        "print(\"SVM\")\n",
        "from sklearn import svm\n",
        "lin_clf = svm.LinearSVC()\n",
        "lin_clf.fit(X_train, y_train)\n",
        "predict_svm = lin_clf.predict(X_test)\n",
        "svm_acc = accuracy_score(y_test, predict_svm) * 100\n",
        "print(svm_acc)\n",
        "print(\"CLASSIFICATION REPORT\")\n",
        "print(classification_report(y_test, predict_svm))\n",
        "print(\"CONFUSION MATRIX\")\n",
        "print(confusion_matrix(y_test, predict_svm))\n",
        "models.append(('svm', lin_clf))"
      ],
      "metadata": {
        "colab": {
          "base_uri": "https://localhost:8080/"
        },
        "id": "iqvQ4OeWMa8G",
        "outputId": "eaa4a0c5-fe61-4386-d7a8-8e07df0e28e4"
      },
      "execution_count": 11,
      "outputs": [
        {
          "output_type": "stream",
          "name": "stdout",
          "text": [
            "SVM\n",
            "76.69\n",
            "CLASSIFICATION REPORT\n",
            "              precision    recall  f1-score   support\n",
            "\n",
            "           0       0.77      0.82      0.79      5400\n",
            "           1       0.77      0.71      0.74      4600\n",
            "\n",
            "    accuracy                           0.77     10000\n",
            "   macro avg       0.77      0.76      0.76     10000\n",
            "weighted avg       0.77      0.77      0.77     10000\n",
            "\n",
            "CONFUSION MATRIX\n",
            "[[4414  986]\n",
            " [1345 3255]]\n"
          ]
        }
      ]
    },
    {
      "cell_type": "code",
      "source": [
        "print(\"Logistic Regression\")\n",
        "from sklearn.linear_model import LogisticRegression\n",
        "reg = LogisticRegression(random_state=0, solver='lbfgs').fit(X_train, y_train)\n",
        "y_pred = reg.predict(X_test)\n",
        "print(\"ACCURACY\")\n",
        "print(accuracy_score(y_test, y_pred) * 100)\n",
        "print(\"CLASSIFICATION REPORT\")\n",
        "print(classification_report(y_test, y_pred))\n",
        "print(\"CONFUSION MATRIX\")\n",
        "print(confusion_matrix(y_test, y_pred))\n",
        "models.append(('logistic', reg))"
      ],
      "metadata": {
        "colab": {
          "base_uri": "https://localhost:8080/"
        },
        "id": "DtUihUyoM5mS",
        "outputId": "832ac1f0-fc64-4c9b-e3c0-79b9ea9ae2b7"
      },
      "execution_count": 12,
      "outputs": [
        {
          "output_type": "stream",
          "name": "stdout",
          "text": [
            "Logistic Regression\n",
            "ACCURACY\n",
            "75.99000000000001\n",
            "CLASSIFICATION REPORT\n",
            "              precision    recall  f1-score   support\n",
            "\n",
            "           0       0.76      0.80      0.78      5400\n",
            "           1       0.76      0.71      0.73      4600\n",
            "\n",
            "    accuracy                           0.76     10000\n",
            "   macro avg       0.76      0.76      0.76     10000\n",
            "weighted avg       0.76      0.76      0.76     10000\n",
            "\n",
            "CONFUSION MATRIX\n",
            "[[4345 1055]\n",
            " [1346 3254]]\n"
          ]
        },
        {
          "output_type": "stream",
          "name": "stderr",
          "text": [
            "/usr/local/lib/python3.10/dist-packages/sklearn/linear_model/_logistic.py:458: ConvergenceWarning: lbfgs failed to converge (status=1):\n",
            "STOP: TOTAL NO. of ITERATIONS REACHED LIMIT.\n",
            "\n",
            "Increase the number of iterations (max_iter) or scale the data as shown in:\n",
            "    https://scikit-learn.org/stable/modules/preprocessing.html\n",
            "Please also refer to the documentation for alternative solver options:\n",
            "    https://scikit-learn.org/stable/modules/linear_model.html#logistic-regression\n",
            "  n_iter_i = _check_optimize_result(\n"
          ]
        }
      ]
    },
    {
      "cell_type": "code",
      "source": [
        "print(\"Decision Tree Classifier\")\n",
        "dtc = DecisionTreeClassifier()\n",
        "dtc.fit(X_train, y_train)\n",
        "dtcpredict = dtc.predict(X_test)\n",
        "print(\"ACCURACY\")\n",
        "print(accuracy_score(y_test, dtcpredict) * 100)\n",
        "print(\"CLASSIFICATION REPORT\")\n",
        "print(classification_report(y_test, dtcpredict))\n",
        "print(\"CONFUSION MATRIX\")\n",
        "print(confusion_matrix(y_test, dtcpredict))"
      ],
      "metadata": {
        "colab": {
          "base_uri": "https://localhost:8080/"
        },
        "id": "a5pyziefNa04",
        "outputId": "9b4ba6be-5922-47d7-d05f-9f8a7b838f67"
      },
      "execution_count": 13,
      "outputs": [
        {
          "output_type": "stream",
          "name": "stdout",
          "text": [
            "Decision Tree Classifier\n",
            "ACCURACY\n",
            "90.05\n",
            "CLASSIFICATION REPORT\n",
            "              precision    recall  f1-score   support\n",
            "\n",
            "           0       0.90      0.91      0.91      5400\n",
            "           1       0.90      0.89      0.89      4600\n",
            "\n",
            "    accuracy                           0.90     10000\n",
            "   macro avg       0.90      0.90      0.90     10000\n",
            "weighted avg       0.90      0.90      0.90     10000\n",
            "\n",
            "CONFUSION MATRIX\n",
            "[[4934  466]\n",
            " [ 529 4071]]\n"
          ]
        }
      ]
    },
    {
      "cell_type": "code",
      "source": [
        "print(\"Convolution Neural Network (CNN)\")\n",
        "from sklearn.neural_network import MLPClassifier\n",
        "mlpc = MLPClassifier().fit(X_train, y_train)\n",
        "y_pred = mlpc.predict(X_test)\n",
        "print(\"ACCURACY\")\n",
        "print(accuracy_score(y_test, y_pred) * 100)\n",
        "print(\"CLASSIFICATION REPORT\")\n",
        "print(classification_report(y_test, y_pred))\n",
        "print(\"CONFUSION MATRIX\")\n",
        "print(confusion_matrix(y_test, y_pred))\n",
        "models.append(('MLPClassifier', mlpc))\n",
        "\n",
        "\n"
      ],
      "metadata": {
        "colab": {
          "base_uri": "https://localhost:8080/"
        },
        "id": "JIj_EZlLW36Z",
        "outputId": "6696d59e-568d-4b0e-a0a7-4cc4f5766c45"
      },
      "execution_count": 14,
      "outputs": [
        {
          "output_type": "stream",
          "name": "stdout",
          "text": [
            "Convolution Neural Network (CNN)\n",
            "ACCURACY\n",
            "78.23\n",
            "CLASSIFICATION REPORT\n",
            "              precision    recall  f1-score   support\n",
            "\n",
            "           0       0.78      0.83      0.80      5400\n",
            "           1       0.78      0.73      0.76      4600\n",
            "\n",
            "    accuracy                           0.78     10000\n",
            "   macro avg       0.78      0.78      0.78     10000\n",
            "weighted avg       0.78      0.78      0.78     10000\n",
            "\n",
            "CONFUSION MATRIX\n",
            "[[4468  932]\n",
            " [1245 3355]]\n"
          ]
        }
      ]
    }
  ]
}