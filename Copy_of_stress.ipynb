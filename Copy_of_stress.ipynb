{
  "nbformat": 4,
  "nbformat_minor": 0,
  "metadata": {
    "colab": {
      "provenance": [],
      "include_colab_link": true
    },
    "kernelspec": {
      "name": "python3",
      "display_name": "Python 3"
    },
    "language_info": {
      "name": "python"
    }
  },
  "cells": [
    {
      "cell_type": "markdown",
      "metadata": {
        "id": "view-in-github",
        "colab_type": "text"
      },
      "source": [
        "<a href=\"https://colab.research.google.com/github/20pa1a1268/basicml/blob/main/Copy_of_stress.ipynb\" target=\"_parent\"><img src=\"https://colab.research.google.com/assets/colab-badge.svg\" alt=\"Open In Colab\"/></a>"
      ]
    },
    {
      "cell_type": "code",
      "execution_count": null,
      "metadata": {
        "id": "8uJuI3MUJaxe"
      },
      "outputs": [],
      "source": [
        "import numpy as np # linear algebra\n",
        "import pandas as pd # data processing, CSV file I/O (e.g. pd.read_csv)\n",
        "from sklearn.feature_extraction.text import CountVectorizer\n",
        "from sklearn.tree import DecisionTreeClassifier\n",
        "from sklearn.ensemble import VotingClassifier\n",
        "from sklearn.metrics import confusion_matrix, accuracy_score,  classification_report"
      ]
    },
    {
      "cell_type": "code",
      "source": [
        "df = pd.read_csv('train.csv', encoding='latin-1')\n",
        "df[\"FID\"]"
      ],
      "metadata": {
        "colab": {
          "base_uri": "https://localhost:8080/"
        },
        "id": "ej7aY4LNKKYS",
        "outputId": "ae1c403a-5847-42b6-be8e-49fed022552a"
      },
      "execution_count": null,
      "outputs": [
        {
          "output_type": "execute_result",
          "data": {
            "text/plain": [
              "0           885-853-140.9727412-15.55450456\n",
              "1           939-948-81.31774203-12.96443946\n",
              "2           898-907-84.49723585-16.30527867\n",
              "3           881-893-90.37053724-15.72046849\n",
              "4           809-811-62.76624216-19.21381887\n",
              "                        ...                \n",
              "369284       721-721-36.3775595-9.609940972\n",
              "369285      984-978-74.91843255-13.76227385\n",
              "369286    1025-1024-95.30919959-23.05125375\n",
              "369287       798-803-78.44989695-16.7366864\n",
              "369288      814-815-67.69738701-20.64955147\n",
              "Name: FID, Length: 369289, dtype: object"
            ]
          },
          "metadata": {},
          "execution_count": 25
        }
      ]
    },
    {
      "cell_type": "code",
      "source": [
        "df.fillna(value=1,inplace=True)\n",
        "df.isnull().sum()"
      ],
      "metadata": {
        "colab": {
          "base_uri": "https://localhost:8080/"
        },
        "id": "Ojyy3sZvOLv7",
        "outputId": "de1192d7-d444-4640-b2dd-4b835cdadb71"
      },
      "execution_count": null,
      "outputs": [
        {
          "output_type": "execute_result",
          "data": {
            "text/plain": [
              "MEAN_RR        0\n",
              "MEDIAN_RR      0\n",
              "SDRR           0\n",
              "RMSSD          0\n",
              "condition      0\n",
              "MEAN_RR.1      0\n",
              "MEDIAN_RR.1    0\n",
              "Column1        0\n",
              "FID            0\n",
              "dtype: int64"
            ]
          },
          "metadata": {},
          "execution_count": 26
        }
      ]
    },
    {
      "cell_type": "code",
      "source": [
        "def apply_results(condition):\n",
        "            if (condition == 'no stress'):\n",
        "                return 0  # No Stress\n",
        "            elif (condition == 'interruption' or condition==\"time pressure\"):\n",
        "                return 1  # Stress\n",
        "            else:\n",
        "                return 0\n",
        "df['results'] = df['condition'].apply(apply_results)\n",
        "x = df[\"FID\"]\n",
        "y=df[\"results\"]\n",
        "cv = CountVectorizer(lowercase=False, strip_accents='unicode', ngram_range=(1, 1))\n",
        "x = cv.fit_transform(df[\"FID\"])"
      ],
      "metadata": {
        "id": "zqMaLri9Kgf8"
      },
      "execution_count": null,
      "outputs": []
    },
    {
      "cell_type": "code",
      "source": [
        "models = []\n",
        "from sklearn.model_selection import train_test_split\n",
        "X_train, X_test, y_train, y_test = train_test_split(x, y, test_size=0.20)\n",
        "X_train.shape, X_test.shape, y_train.shape"
      ],
      "metadata": {
        "colab": {
          "base_uri": "https://localhost:8080/"
        },
        "id": "NO576vKkKmUx",
        "outputId": "79ce3322-a440-460b-9510-c1dd18882d8c"
      },
      "execution_count": null,
      "outputs": [
        {
          "output_type": "execute_result",
          "data": {
            "text/plain": [
              "((295431, 736807), (73858, 736807), (295431,))"
            ]
          },
          "metadata": {},
          "execution_count": 28
        }
      ]
    },
    {
      "cell_type": "code",
      "source": [
        "print(\"Naive Bayes\")\n",
        "from sklearn.naive_bayes import MultinomialNB\n",
        "NB = MultinomialNB()\n",
        "NB.fit(X_train, y_train)\n",
        "predict_nb = NB.predict(X_test)\n",
        "naivebayes = accuracy_score(y_test, predict_nb) * 100\n",
        "print(naivebayes)\n",
        "print(confusion_matrix(y_test, predict_nb))\n",
        "print(classification_report(y_test, predict_nb))\n",
        "models.append(('naive_bayes', NB))\n"
      ],
      "metadata": {
        "colab": {
          "base_uri": "https://localhost:8080/"
        },
        "id": "vWaVo9iCKt_T",
        "outputId": "5622c0ff-2795-4219-d540-7e1d14f1b9f5"
      },
      "execution_count": null,
      "outputs": [
        {
          "output_type": "stream",
          "name": "stdout",
          "text": [
            "Naive Bayes\n",
            "74.00552411384007\n",
            "[[31330  8735]\n",
            " [10464 23329]]\n",
            "              precision    recall  f1-score   support\n",
            "\n",
            "           0       0.75      0.78      0.77     40065\n",
            "           1       0.73      0.69      0.71     33793\n",
            "\n",
            "    accuracy                           0.74     73858\n",
            "   macro avg       0.74      0.74      0.74     73858\n",
            "weighted avg       0.74      0.74      0.74     73858\n",
            "\n"
          ]
        }
      ]
    },
    {
      "cell_type": "code",
      "source": [
        "print(\"SVM\")\n",
        "from sklearn import svm\n",
        "lin_clf = svm.LinearSVC()\n",
        "lin_clf.fit(X_train, y_train)\n",
        "predict_svm = lin_clf.predict(X_test)\n",
        "svm_acc = accuracy_score(y_test, predict_svm) * 100\n",
        "print(svm_acc)\n",
        "print(\"CLASSIFICATION REPORT\")\n",
        "print(classification_report(y_test, predict_svm))\n",
        "print(\"CONFUSION MATRIX\")\n",
        "print(confusion_matrix(y_test, predict_svm))\n",
        "models.append(('svm', lin_clf))"
      ],
      "metadata": {
        "colab": {
          "base_uri": "https://localhost:8080/"
        },
        "id": "iqvQ4OeWMa8G",
        "outputId": "1c490dee-7a11-40f6-d8f3-e9f7148b0326"
      },
      "execution_count": null,
      "outputs": [
        {
          "output_type": "stream",
          "name": "stdout",
          "text": [
            "SVM\n",
            "77.24146334858784\n",
            "CLASSIFICATION REPORT\n",
            "              precision    recall  f1-score   support\n",
            "\n",
            "           0       0.77      0.82      0.80     40065\n",
            "           1       0.77      0.72      0.74     33793\n",
            "\n",
            "    accuracy                           0.77     73858\n",
            "   macro avg       0.77      0.77      0.77     73858\n",
            "weighted avg       0.77      0.77      0.77     73858\n",
            "\n",
            "CONFUSION MATRIX\n",
            "[[32869  7196]\n",
            " [ 9613 24180]]\n"
          ]
        }
      ]
    },
    {
      "cell_type": "code",
      "source": [
        "print(\"Logistic Regression\")\n",
        "from sklearn.linear_model import LogisticRegression\n",
        "reg = LogisticRegression(random_state=0, solver='lbfgs').fit(X_train, y_train)\n",
        "y_pred = reg.predict(X_test)\n",
        "print(\"ACCURACY\")\n",
        "print(accuracy_score(y_test, y_pred) * 100)\n",
        "print(\"CLASSIFICATION REPORT\")\n",
        "print(classification_report(y_test, y_pred))\n",
        "print(\"CONFUSION MATRIX\")\n",
        "print(confusion_matrix(y_test, y_pred))\n",
        "models.append(('logistic', reg))"
      ],
      "metadata": {
        "colab": {
          "base_uri": "https://localhost:8080/"
        },
        "id": "DtUihUyoM5mS",
        "outputId": "686bd40d-dee5-4607-afd6-652c3eec95ee"
      },
      "execution_count": null,
      "outputs": [
        {
          "output_type": "stream",
          "name": "stdout",
          "text": [
            "Logistic Regression\n",
            "ACCURACY\n",
            "76.86506539575943\n",
            "CLASSIFICATION REPORT\n",
            "              precision    recall  f1-score   support\n",
            "\n",
            "           0       0.77      0.81      0.79     40065\n",
            "           1       0.76      0.72      0.74     33793\n",
            "\n",
            "    accuracy                           0.77     73858\n",
            "   macro avg       0.77      0.76      0.77     73858\n",
            "weighted avg       0.77      0.77      0.77     73858\n",
            "\n",
            "CONFUSION MATRIX\n",
            "[[32498  7567]\n",
            " [ 9520 24273]]\n"
          ]
        },
        {
          "output_type": "stream",
          "name": "stderr",
          "text": [
            "/usr/local/lib/python3.10/dist-packages/sklearn/linear_model/_logistic.py:458: ConvergenceWarning: lbfgs failed to converge (status=1):\n",
            "STOP: TOTAL NO. of ITERATIONS REACHED LIMIT.\n",
            "\n",
            "Increase the number of iterations (max_iter) or scale the data as shown in:\n",
            "    https://scikit-learn.org/stable/modules/preprocessing.html\n",
            "Please also refer to the documentation for alternative solver options:\n",
            "    https://scikit-learn.org/stable/modules/linear_model.html#logistic-regression\n",
            "  n_iter_i = _check_optimize_result(\n"
          ]
        }
      ]
    },
    {
      "cell_type": "code",
      "source": [
        "print(\"Decision Tree Classifier\")\n",
        "dtc = DecisionTreeClassifier()\n",
        "dtc.fit(X_train, y_train)\n",
        "dtcpredict = dtc.predict(X_test)\n",
        "print(\"ACCURACY\")\n",
        "print(accuracy_score(y_test, dtcpredict) * 100)\n",
        "print(\"CLASSIFICATION REPORT\")\n",
        "print(classification_report(y_test, dtcpredict))\n",
        "print(\"CONFUSION MATRIX\")\n",
        "print(confusion_matrix(y_test, dtcpredict))"
      ],
      "metadata": {
        "colab": {
          "base_uri": "https://localhost:8080/"
        },
        "id": "a5pyziefNa04",
        "outputId": "fd832fe6-2248-4f33-f767-201746a4c4fb"
      },
      "execution_count": null,
      "outputs": [
        {
          "output_type": "stream",
          "name": "stdout",
          "text": [
            "Decision Tree Classifier\n",
            "ACCURACY\n",
            "97.77410707032413\n",
            "CLASSIFICATION REPORT\n",
            "              precision    recall  f1-score   support\n",
            "\n",
            "           0       0.98      0.98      0.98     40065\n",
            "           1       0.98      0.98      0.98     33793\n",
            "\n",
            "    accuracy                           0.98     73858\n",
            "   macro avg       0.98      0.98      0.98     73858\n",
            "weighted avg       0.98      0.98      0.98     73858\n",
            "\n",
            "CONFUSION MATRIX\n",
            "[[39236   829]\n",
            " [  815 32978]]\n"
          ]
        }
      ]
    },
    {
      "cell_type": "code",
      "source": [
        "print(\"Convolution Neural Network (CNN)\")\n",
        "from sklearn.neural_network import MLPClassifier\n",
        "mlpc = MLPClassifier().fit(X_train, y_train)\n",
        "y_pred = mlpc.predict(X_test)\n",
        "print(\"ACCURACY\")\n",
        "print(accuracy_score(y_test, y_pred) * 100)\n",
        "print(\"CLASSIFICATION REPORT\")\n",
        "print(classification_report(y_test, y_pred))\n",
        "print(\"CONFUSION MATRIX\")\n",
        "print(confusion_matrix(y_test, y_pred))\n",
        "models.append(('MLPClassifier', mlpc))\n",
        "\n",
        "\n"
      ],
      "metadata": {
        "colab": {
          "base_uri": "https://localhost:8080/"
        },
        "id": "JIj_EZlLW36Z",
        "outputId": "4c00d166-f694-4741-8daa-3f67dfe12771"
      },
      "execution_count": null,
      "outputs": [
        {
          "output_type": "stream",
          "name": "stdout",
          "text": [
            "Convolution Neural Network (CNN)\n"
          ]
        }
      ]
    }
  ]
}