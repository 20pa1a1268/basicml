{
  "nbformat": 4,
  "nbformat_minor": 0,
  "metadata": {
    "colab": {
      "name": "ads.ipynb",
      "provenance": [],
      "collapsed_sections": [],
      "include_colab_link": true
    },
    "kernelspec": {
      "name": "python3",
      "display_name": "Python 3"
    },
    "language_info": {
      "name": "python"
    }
  },
  "cells": [
    {
      "cell_type": "markdown",
      "metadata": {
        "id": "view-in-github",
        "colab_type": "text"
      },
      "source": [
        "<a href=\"https://colab.research.google.com/github/kiranmayi19/basicml/blob/main/ADS_EDA.ipynb\" target=\"_parent\"><img src=\"https://colab.research.google.com/assets/colab-badge.svg\" alt=\"Open In Colab\"/></a>"
      ]
    },
    {
      "cell_type": "markdown",
      "source": [
        "#**EXPLORATORY DATA ANALYSIS**"
      ],
      "metadata": {
        "id": "Qt6pSiDS_9ZR"
      }
    },
    {
      "cell_type": "markdown",
      "source": [
        "It is a statistical term and approach of analysing data sets to summarize their main characteristics and also used for data visualsisation methods. "
      ],
      "metadata": {
        "id": "uOcYGUsxz0fY"
      }
    },
    {
      "cell_type": "markdown",
      "source": [
        "**IMPORTING** **PACKAGES**"
      ],
      "metadata": {
        "id": "FMQ3gifb0OUT"
      }
    },
    {
      "cell_type": "code",
      "execution_count": 2,
      "metadata": {
        "id": "s_UJ056o8to7"
      },
      "outputs": [],
      "source": [
        "import numpy as np\n",
        "import pandas as pd\n",
        "import seaborn as sns\n",
        "from matplotlib import pyplot as plt"
      ]
    },
    {
      "cell_type": "markdown",
      "source": [
        "**IMPORTING**   **DATA** "
      ],
      "metadata": {
        "id": "AFmku0bsAKYC"
      }
    },
    {
      "cell_type": "markdown",
      "source": [
        "**CKECKING** **THE** **DIMENSIONS**"
      ],
      "metadata": {
        "id": "wcEdupWo1O3-"
      }
    },
    {
      "cell_type": "code",
      "source": [
        "print(df1.shape)\n",
        "print(df2.shape)\n",
        "print(df3.shape)"
      ],
      "metadata": {
        "id": "MCmIwEkg1aG6",
        "outputId": "2d257511-25ea-4045-b189-cd6acba18b7d",
        "colab": {
          "base_uri": "https://localhost:8080/"
        }
      },
      "execution_count": null,
      "outputs": [
        {
          "output_type": "stream",
          "name": "stdout",
          "text": [
            "(66, 2)\n",
            "(100, 4)\n",
            "(68701, 66)\n"
          ]
        }
      ]
    },
    {
      "cell_type": "markdown",
      "source": [
        "**DATA** **SOURCING**"
      ],
      "metadata": {
        "id": "vojq-ua51l5R"
      }
    },
    {
      "cell_type": "code",
      "source": [
        "df1.info()\n",
        "df2.info()\n",
        "df3.info()\n"
      ],
      "metadata": {
        "colab": {
          "base_uri": "https://localhost:8080/"
        },
        "id": "WGcMNetH_zfc",
        "outputId": "cc555710-6f75-450b-9ecf-8763844a3897"
      },
      "execution_count": null,
      "outputs": [
        {
          "output_type": "stream",
          "name": "stdout",
          "text": [
            "<class 'pandas.core.frame.DataFrame'>\n",
            "RangeIndex: 66 entries, 0 to 65\n",
            "Data columns (total 2 columns):\n",
            " #   Column             Non-Null Count  Dtype \n",
            "---  ------             --------------  ----- \n",
            " 0   Field Name         66 non-null     object\n",
            " 1   Field Description  66 non-null     object\n",
            "dtypes: object(2)\n",
            "memory usage: 1.2+ KB\n",
            "<class 'pandas.core.frame.DataFrame'>\n",
            "RangeIndex: 100 entries, 0 to 99\n",
            "Data columns (total 4 columns):\n",
            " #   Column    Non-Null Count  Dtype \n",
            "---  ------    --------------  ----- \n",
            " 0   Company   100 non-null    object\n",
            " 1   State     100 non-null    object\n",
            " 2   Source    100 non-null    object\n",
            " 3   Suspects  100 non-null    object\n",
            "dtypes: object(4)\n",
            "memory usage: 3.2+ KB\n",
            "<class 'pandas.core.frame.DataFrame'>\n",
            "RangeIndex: 68701 entries, 0 to 68700\n",
            "Data columns (total 66 columns):\n",
            " #   Column                         Non-Null Count  Dtype  \n",
            "---  ------                         --------------  -----  \n",
            " 0   LoanNumber                     68701 non-null  int64  \n",
            " 1   DateApproved                   68701 non-null  object \n",
            " 2   SBAOfficeCode                  68701 non-null  int64  \n",
            " 3   ProcessingMethod               68701 non-null  object \n",
            " 4   BorrowerName                   68700 non-null  object \n",
            " 5   BorrowerAddress                68701 non-null  object \n",
            " 6   BorrowerCity                   68701 non-null  object \n",
            " 7   BorrowerState                  68701 non-null  object \n",
            " 8   BorrowerZip                    68701 non-null  object \n",
            " 9   LoanStatusDate                 68701 non-null  object \n",
            " 10  LoanStatus                     68701 non-null  object \n",
            " 11  Term                           68701 non-null  int64  \n",
            " 12  SBAGuarantyPercentage          68701 non-null  int64  \n",
            " 13  InitialApprovalAmount          68701 non-null  float64\n",
            " 14  CurrentApprovalAmount          68701 non-null  float64\n",
            " 15  UndisbursedAmount              68701 non-null  float64\n",
            " 16  FranchiseName                  68701 non-null  object \n",
            " 17  ServicingLenderLocationID      68701 non-null  int64  \n",
            " 18  ServicingLenderName            68701 non-null  object \n",
            " 19  ServicingLenderAddress         68701 non-null  object \n",
            " 20  ServicingLenderCity            68701 non-null  object \n",
            " 21  ServicingLenderState           68701 non-null  object \n",
            " 22  ServicingLenderZip             68701 non-null  object \n",
            " 23  RuralUrbanIndicator            68701 non-null  object \n",
            " 24  HubzoneIndicator               68701 non-null  object \n",
            " 25  LMIIndicator                   68701 non-null  object \n",
            " 26  BusinessAgeDescription         68701 non-null  object \n",
            " 27  ProjectCity                    68701 non-null  object \n",
            " 28  ProjectCountyName              68701 non-null  object \n",
            " 29  ProjectState                   68701 non-null  object \n",
            " 30  ProjectZip                     68701 non-null  object \n",
            " 31  CD                             68700 non-null  object \n",
            " 32  JobsReported                   68700 non-null  float64\n",
            " 33  NAICSCode                      68700 non-null  float64\n",
            " 34  Race                           68700 non-null  object \n",
            " 35  Ethnicity                      68700 non-null  object \n",
            " 36  UTILITIES_PROCEED              68700 non-null  float64\n",
            " 37  PAYROLL_PROCEED                68700 non-null  float64\n",
            " 38  MORTGAGE_INTEREST_PROCEED      68700 non-null  float64\n",
            " 39  RENT_PROCEED                   68700 non-null  float64\n",
            " 40  REFINANCE_EIDL_PROCEED         68700 non-null  float64\n",
            " 41  HEALTH_CARE_PROCEED            68700 non-null  float64\n",
            " 42  DEBT_INTEREST_PROCEED          68700 non-null  float64\n",
            " 43  BusinessType                   68700 non-null  object \n",
            " 44  OriginatingLenderLocationID    68700 non-null  float64\n",
            " 45  OriginatingLender              68700 non-null  object \n",
            " 46  OriginatingLenderCity          68700 non-null  object \n",
            " 47  OriginatingLenderState         68700 non-null  object \n",
            " 48  Gender                         68700 non-null  object \n",
            " 49  Veteran                        68700 non-null  object \n",
            " 50  NonProfit                      68700 non-null  object \n",
            " 51  ForgivenessAmount              68700 non-null  float64\n",
            " 52  ForgivenessDate                68700 non-null  object \n",
            " 53  ApprovalDiff                   68700 non-null  float64\n",
            " 54  NotForgivenAmount              68700 non-null  float64\n",
            " 55  ForgivenPercentage             68700 non-null  float64\n",
            " 56  TOTAL_PROCEED                  68700 non-null  float64\n",
            " 57  PROCEED_Diff                   68700 non-null  float64\n",
            " 58  UTILITIES_PROCEED_pct          68700 non-null  float64\n",
            " 59  PAYROLL_PROCEED_pct            68700 non-null  float64\n",
            " 60  MORTGAGE_INTEREST_PROCEED_pct  68700 non-null  float64\n",
            " 61  RENT_PROCEED_pct               68700 non-null  float64\n",
            " 62  REFINANCE_EIDL_PROCEED_pct     68700 non-null  float64\n",
            " 63  HEALTH_CARE_PROCEED_pct        68700 non-null  float64\n",
            " 64  DEBT_INTEREST_PROCEED_pct      68700 non-null  float64\n",
            " 65  PROCEED_Per_Job                68700 non-null  float64\n",
            "dtypes: float64(27), int64(5), object(34)\n",
            "memory usage: 34.6+ MB\n"
          ]
        }
      ]
    },
    {
      "cell_type": "markdown",
      "source": [
        "**REPLACING STRING BY NUMBER**"
      ],
      "metadata": {
        "id": "VqCRNWpN10uF"
      }
    },
    {
      "cell_type": "code",
      "source": [
        "df3.isna().sum()"
      ],
      "metadata": {
        "id": "oBin4KGV17_k",
        "outputId": "eca98888-8426-4001-8084-682caf3f9782",
        "colab": {
          "base_uri": "https://localhost:8080/"
        }
      },
      "execution_count": null,
      "outputs": [
        {
          "output_type": "execute_result",
          "data": {
            "text/plain": [
              "LoanNumber                    0\n",
              "DateApproved                  0\n",
              "SBAOfficeCode                 0\n",
              "ProcessingMethod              0\n",
              "BorrowerName                  1\n",
              "                             ..\n",
              "RENT_PROCEED_pct              1\n",
              "REFINANCE_EIDL_PROCEED_pct    1\n",
              "HEALTH_CARE_PROCEED_pct       1\n",
              "DEBT_INTEREST_PROCEED_pct     1\n",
              "PROCEED_Per_Job               1\n",
              "Length: 66, dtype: int64"
            ]
          },
          "metadata": {},
          "execution_count": 8
        }
      ]
    },
    {
      "cell_type": "markdown",
      "source": [
        "**DATA CLEANING**"
      ],
      "metadata": {
        "id": "2FcccWuy2IGO"
      }
    },
    {
      "cell_type": "code",
      "source": [
        "df3.isna().any"
      ],
      "metadata": {
        "id": "hXkyVhM32NN8",
        "outputId": "a3e235d0-0d97-4f75-ba80-247b580f7d8e",
        "colab": {
          "base_uri": "https://localhost:8080/"
        }
      },
      "execution_count": null,
      "outputs": [
        {
          "output_type": "execute_result",
          "data": {
            "text/plain": [
              "<bound method NDFrame._add_numeric_operations.<locals>.any of        LoanNumber  DateApproved  SBAOfficeCode  ProcessingMethod  \\\n",
              "0           False         False          False             False   \n",
              "1           False         False          False             False   \n",
              "2           False         False          False             False   \n",
              "3           False         False          False             False   \n",
              "4           False         False          False             False   \n",
              "...           ...           ...            ...               ...   \n",
              "68696       False         False          False             False   \n",
              "68697       False         False          False             False   \n",
              "68698       False         False          False             False   \n",
              "68699       False         False          False             False   \n",
              "68700       False         False          False             False   \n",
              "\n",
              "       BorrowerName  BorrowerAddress  BorrowerCity  BorrowerState  \\\n",
              "0             False            False         False          False   \n",
              "1             False            False         False          False   \n",
              "2             False            False         False          False   \n",
              "3             False            False         False          False   \n",
              "4             False            False         False          False   \n",
              "...             ...              ...           ...            ...   \n",
              "68696         False            False         False          False   \n",
              "68697         False            False         False          False   \n",
              "68698         False            False         False          False   \n",
              "68699         False            False         False          False   \n",
              "68700         False            False         False          False   \n",
              "\n",
              "       BorrowerZip  LoanStatusDate  ...  TOTAL_PROCEED  PROCEED_Diff  \\\n",
              "0            False           False  ...          False         False   \n",
              "1            False           False  ...          False         False   \n",
              "2            False           False  ...          False         False   \n",
              "3            False           False  ...          False         False   \n",
              "4            False           False  ...          False         False   \n",
              "...            ...             ...  ...            ...           ...   \n",
              "68696        False           False  ...          False         False   \n",
              "68697        False           False  ...          False         False   \n",
              "68698        False           False  ...          False         False   \n",
              "68699        False           False  ...          False         False   \n",
              "68700        False           False  ...           True          True   \n",
              "\n",
              "       UTILITIES_PROCEED_pct  PAYROLL_PROCEED_pct  \\\n",
              "0                      False                False   \n",
              "1                      False                False   \n",
              "2                      False                False   \n",
              "3                      False                False   \n",
              "4                      False                False   \n",
              "...                      ...                  ...   \n",
              "68696                  False                False   \n",
              "68697                  False                False   \n",
              "68698                  False                False   \n",
              "68699                  False                False   \n",
              "68700                   True                 True   \n",
              "\n",
              "       MORTGAGE_INTEREST_PROCEED_pct  RENT_PROCEED_pct  \\\n",
              "0                              False             False   \n",
              "1                              False             False   \n",
              "2                              False             False   \n",
              "3                              False             False   \n",
              "4                              False             False   \n",
              "...                              ...               ...   \n",
              "68696                          False             False   \n",
              "68697                          False             False   \n",
              "68698                          False             False   \n",
              "68699                          False             False   \n",
              "68700                           True              True   \n",
              "\n",
              "       REFINANCE_EIDL_PROCEED_pct  HEALTH_CARE_PROCEED_pct  \\\n",
              "0                           False                    False   \n",
              "1                           False                    False   \n",
              "2                           False                    False   \n",
              "3                           False                    False   \n",
              "4                           False                    False   \n",
              "...                           ...                      ...   \n",
              "68696                       False                    False   \n",
              "68697                       False                    False   \n",
              "68698                       False                    False   \n",
              "68699                       False                    False   \n",
              "68700                        True                     True   \n",
              "\n",
              "       DEBT_INTEREST_PROCEED_pct  PROCEED_Per_Job  \n",
              "0                          False            False  \n",
              "1                          False            False  \n",
              "2                          False            False  \n",
              "3                          False            False  \n",
              "4                          False            False  \n",
              "...                          ...              ...  \n",
              "68696                      False            False  \n",
              "68697                      False            False  \n",
              "68698                      False            False  \n",
              "68699                      False            False  \n",
              "68700                       True             True  \n",
              "\n",
              "[68701 rows x 66 columns]>"
            ]
          },
          "metadata": {},
          "execution_count": 9
        }
      ]
    },
    {
      "cell_type": "code",
      "source": [
        "df1.describe()\n",
        "df2.describe()\n",
        "df3.describe()"
      ],
      "metadata": {
        "colab": {
          "base_uri": "https://localhost:8080/",
          "height": 394
        },
        "id": "kQvXpITfAUxf",
        "outputId": "24a31b52-c0b7-44b2-ce5a-aafe77810528"
      },
      "execution_count": null,
      "outputs": [
        {
          "output_type": "execute_result",
          "data": {
            "text/plain": [
              "         LoanNumber  SBAOfficeCode          Term  SBAGuarantyPercentage  \\\n",
              "count  6.870100e+04   68701.000000  68701.000000                68701.0   \n",
              "mean   5.395177e+09     847.912505     35.800119                  100.0   \n",
              "std    2.544763e+09     190.297730     17.021259                    0.0   \n",
              "min    1.000047e+09     101.000000      0.000000                  100.0   \n",
              "25%    3.247257e+09     912.000000     24.000000                  100.0   \n",
              "50%    5.381787e+09     914.000000     24.000000                  100.0   \n",
              "75%    7.483247e+09     988.000000     60.000000                  100.0   \n",
              "max    9.998938e+09    1084.000000     84.000000                  100.0   \n",
              "\n",
              "       InitialApprovalAmount  CurrentApprovalAmount  UndisbursedAmount  \\\n",
              "count           6.870100e+04           6.870100e+04       68701.000000   \n",
              "mean            8.920093e+05           8.883837e+05           9.265906   \n",
              "std             1.017911e+06           1.005358e+06        2428.675064   \n",
              "min             1.600000e+02           1.500000e+05           0.000000   \n",
              "25%             2.797200e+05           2.809300e+05           0.000000   \n",
              "50%             6.284250e+05           6.288190e+05           0.000000   \n",
              "75%             1.047900e+06           1.044869e+06           0.000000   \n",
              "max             1.000000e+07           1.000000e+07      636577.000000   \n",
              "\n",
              "       ServicingLenderLocationID  JobsReported      NAICSCode  ...  \\\n",
              "count               68701.000000  68700.000000   68700.000000  ...   \n",
              "mean               121879.787339     81.471994  498004.067045  ...   \n",
              "std                157830.799018     88.639112  184838.425477  ...   \n",
              "min                    20.000000      1.000000      81.000000  ...   \n",
              "25%                 11822.000000     28.000000  334112.000000  ...   \n",
              "50%                 48270.000000     50.000000  532490.000000  ...   \n",
              "75%                122043.000000     96.000000  621493.000000  ...   \n",
              "max                532784.000000    500.000000  999990.000000  ...   \n",
              "\n",
              "       TOTAL_PROCEED  PROCEED_Diff  UTILITIES_PROCEED_pct  \\\n",
              "count   6.870000e+04  6.870000e+04           68700.000000   \n",
              "mean    8.883881e+05  7.163612e-01               0.009278   \n",
              "std     1.005364e+06  2.768904e+01               0.048835   \n",
              "min     1.499940e+05 -9.313226e-10               0.000000   \n",
              "25%     2.809202e+05  0.000000e+00               0.000000   \n",
              "50%     6.288240e+05  0.000000e+00               0.000000   \n",
              "75%     1.044868e+06  0.000000e+00               0.000000   \n",
              "max     1.000000e+07  7.181000e+03               1.000000   \n",
              "\n",
              "       PAYROLL_PROCEED_pct  MORTGAGE_INTEREST_PROCEED_pct  RENT_PROCEED_pct  \\\n",
              "count         68700.000000                   68700.000000      68700.000000   \n",
              "mean              0.968925                       0.004524          0.010924   \n",
              "std               0.089418                       0.033687          0.039148   \n",
              "min               0.000000                       0.000000          0.000000   \n",
              "25%               1.000000                       0.000000          0.000000   \n",
              "50%               1.000000                       0.000000          0.000000   \n",
              "75%               1.000000                       0.000000          0.000000   \n",
              "max               1.000000                       1.000000          1.000000   \n",
              "\n",
              "       REFINANCE_EIDL_PROCEED_pct  HEALTH_CARE_PROCEED_pct  \\\n",
              "count                68700.000000             68700.000000   \n",
              "mean                     0.000647                 0.004733   \n",
              "std                      0.022418                 0.024427   \n",
              "min                      0.000000                 0.000000   \n",
              "25%                      0.000000                 0.000000   \n",
              "50%                      0.000000                 0.000000   \n",
              "75%                      0.000000                 0.000000   \n",
              "max                      1.000000                 1.000000   \n",
              "\n",
              "       DEBT_INTEREST_PROCEED_pct  PROCEED_Per_Job  \n",
              "count               68700.000000     6.870000e+04  \n",
              "mean                    0.000969     1.324369e+04  \n",
              "std                     0.011295     2.668421e+04  \n",
              "min                     0.000000     0.000000e+00  \n",
              "25%                     0.000000     7.963798e+03  \n",
              "50%                     0.000000     1.129969e+04  \n",
              "75%                     0.000000     1.544631e+04  \n",
              "max                     1.000000     2.250900e+06  \n",
              "\n",
              "[8 rows x 32 columns]"
            ],
            "text/html": [
              "\n",
              "  <div id=\"df-27e2c8cd-4f36-4aba-8049-36b3ba7155e1\">\n",
              "    <div class=\"colab-df-container\">\n",
              "      <div>\n",
              "<style scoped>\n",
              "    .dataframe tbody tr th:only-of-type {\n",
              "        vertical-align: middle;\n",
              "    }\n",
              "\n",
              "    .dataframe tbody tr th {\n",
              "        vertical-align: top;\n",
              "    }\n",
              "\n",
              "    .dataframe thead th {\n",
              "        text-align: right;\n",
              "    }\n",
              "</style>\n",
              "<table border=\"1\" class=\"dataframe\">\n",
              "  <thead>\n",
              "    <tr style=\"text-align: right;\">\n",
              "      <th></th>\n",
              "      <th>LoanNumber</th>\n",
              "      <th>SBAOfficeCode</th>\n",
              "      <th>Term</th>\n",
              "      <th>SBAGuarantyPercentage</th>\n",
              "      <th>InitialApprovalAmount</th>\n",
              "      <th>CurrentApprovalAmount</th>\n",
              "      <th>UndisbursedAmount</th>\n",
              "      <th>ServicingLenderLocationID</th>\n",
              "      <th>JobsReported</th>\n",
              "      <th>NAICSCode</th>\n",
              "      <th>...</th>\n",
              "      <th>TOTAL_PROCEED</th>\n",
              "      <th>PROCEED_Diff</th>\n",
              "      <th>UTILITIES_PROCEED_pct</th>\n",
              "      <th>PAYROLL_PROCEED_pct</th>\n",
              "      <th>MORTGAGE_INTEREST_PROCEED_pct</th>\n",
              "      <th>RENT_PROCEED_pct</th>\n",
              "      <th>REFINANCE_EIDL_PROCEED_pct</th>\n",
              "      <th>HEALTH_CARE_PROCEED_pct</th>\n",
              "      <th>DEBT_INTEREST_PROCEED_pct</th>\n",
              "      <th>PROCEED_Per_Job</th>\n",
              "    </tr>\n",
              "  </thead>\n",
              "  <tbody>\n",
              "    <tr>\n",
              "      <th>count</th>\n",
              "      <td>6.870100e+04</td>\n",
              "      <td>68701.000000</td>\n",
              "      <td>68701.000000</td>\n",
              "      <td>68701.0</td>\n",
              "      <td>6.870100e+04</td>\n",
              "      <td>6.870100e+04</td>\n",
              "      <td>68701.000000</td>\n",
              "      <td>68701.000000</td>\n",
              "      <td>68700.000000</td>\n",
              "      <td>68700.000000</td>\n",
              "      <td>...</td>\n",
              "      <td>6.870000e+04</td>\n",
              "      <td>6.870000e+04</td>\n",
              "      <td>68700.000000</td>\n",
              "      <td>68700.000000</td>\n",
              "      <td>68700.000000</td>\n",
              "      <td>68700.000000</td>\n",
              "      <td>68700.000000</td>\n",
              "      <td>68700.000000</td>\n",
              "      <td>68700.000000</td>\n",
              "      <td>6.870000e+04</td>\n",
              "    </tr>\n",
              "    <tr>\n",
              "      <th>mean</th>\n",
              "      <td>5.395177e+09</td>\n",
              "      <td>847.912505</td>\n",
              "      <td>35.800119</td>\n",
              "      <td>100.0</td>\n",
              "      <td>8.920093e+05</td>\n",
              "      <td>8.883837e+05</td>\n",
              "      <td>9.265906</td>\n",
              "      <td>121879.787339</td>\n",
              "      <td>81.471994</td>\n",
              "      <td>498004.067045</td>\n",
              "      <td>...</td>\n",
              "      <td>8.883881e+05</td>\n",
              "      <td>7.163612e-01</td>\n",
              "      <td>0.009278</td>\n",
              "      <td>0.968925</td>\n",
              "      <td>0.004524</td>\n",
              "      <td>0.010924</td>\n",
              "      <td>0.000647</td>\n",
              "      <td>0.004733</td>\n",
              "      <td>0.000969</td>\n",
              "      <td>1.324369e+04</td>\n",
              "    </tr>\n",
              "    <tr>\n",
              "      <th>std</th>\n",
              "      <td>2.544763e+09</td>\n",
              "      <td>190.297730</td>\n",
              "      <td>17.021259</td>\n",
              "      <td>0.0</td>\n",
              "      <td>1.017911e+06</td>\n",
              "      <td>1.005358e+06</td>\n",
              "      <td>2428.675064</td>\n",
              "      <td>157830.799018</td>\n",
              "      <td>88.639112</td>\n",
              "      <td>184838.425477</td>\n",
              "      <td>...</td>\n",
              "      <td>1.005364e+06</td>\n",
              "      <td>2.768904e+01</td>\n",
              "      <td>0.048835</td>\n",
              "      <td>0.089418</td>\n",
              "      <td>0.033687</td>\n",
              "      <td>0.039148</td>\n",
              "      <td>0.022418</td>\n",
              "      <td>0.024427</td>\n",
              "      <td>0.011295</td>\n",
              "      <td>2.668421e+04</td>\n",
              "    </tr>\n",
              "    <tr>\n",
              "      <th>min</th>\n",
              "      <td>1.000047e+09</td>\n",
              "      <td>101.000000</td>\n",
              "      <td>0.000000</td>\n",
              "      <td>100.0</td>\n",
              "      <td>1.600000e+02</td>\n",
              "      <td>1.500000e+05</td>\n",
              "      <td>0.000000</td>\n",
              "      <td>20.000000</td>\n",
              "      <td>1.000000</td>\n",
              "      <td>81.000000</td>\n",
              "      <td>...</td>\n",
              "      <td>1.499940e+05</td>\n",
              "      <td>-9.313226e-10</td>\n",
              "      <td>0.000000</td>\n",
              "      <td>0.000000</td>\n",
              "      <td>0.000000</td>\n",
              "      <td>0.000000</td>\n",
              "      <td>0.000000</td>\n",
              "      <td>0.000000</td>\n",
              "      <td>0.000000</td>\n",
              "      <td>0.000000e+00</td>\n",
              "    </tr>\n",
              "    <tr>\n",
              "      <th>25%</th>\n",
              "      <td>3.247257e+09</td>\n",
              "      <td>912.000000</td>\n",
              "      <td>24.000000</td>\n",
              "      <td>100.0</td>\n",
              "      <td>2.797200e+05</td>\n",
              "      <td>2.809300e+05</td>\n",
              "      <td>0.000000</td>\n",
              "      <td>11822.000000</td>\n",
              "      <td>28.000000</td>\n",
              "      <td>334112.000000</td>\n",
              "      <td>...</td>\n",
              "      <td>2.809202e+05</td>\n",
              "      <td>0.000000e+00</td>\n",
              "      <td>0.000000</td>\n",
              "      <td>1.000000</td>\n",
              "      <td>0.000000</td>\n",
              "      <td>0.000000</td>\n",
              "      <td>0.000000</td>\n",
              "      <td>0.000000</td>\n",
              "      <td>0.000000</td>\n",
              "      <td>7.963798e+03</td>\n",
              "    </tr>\n",
              "    <tr>\n",
              "      <th>50%</th>\n",
              "      <td>5.381787e+09</td>\n",
              "      <td>914.000000</td>\n",
              "      <td>24.000000</td>\n",
              "      <td>100.0</td>\n",
              "      <td>6.284250e+05</td>\n",
              "      <td>6.288190e+05</td>\n",
              "      <td>0.000000</td>\n",
              "      <td>48270.000000</td>\n",
              "      <td>50.000000</td>\n",
              "      <td>532490.000000</td>\n",
              "      <td>...</td>\n",
              "      <td>6.288240e+05</td>\n",
              "      <td>0.000000e+00</td>\n",
              "      <td>0.000000</td>\n",
              "      <td>1.000000</td>\n",
              "      <td>0.000000</td>\n",
              "      <td>0.000000</td>\n",
              "      <td>0.000000</td>\n",
              "      <td>0.000000</td>\n",
              "      <td>0.000000</td>\n",
              "      <td>1.129969e+04</td>\n",
              "    </tr>\n",
              "    <tr>\n",
              "      <th>75%</th>\n",
              "      <td>7.483247e+09</td>\n",
              "      <td>988.000000</td>\n",
              "      <td>60.000000</td>\n",
              "      <td>100.0</td>\n",
              "      <td>1.047900e+06</td>\n",
              "      <td>1.044869e+06</td>\n",
              "      <td>0.000000</td>\n",
              "      <td>122043.000000</td>\n",
              "      <td>96.000000</td>\n",
              "      <td>621493.000000</td>\n",
              "      <td>...</td>\n",
              "      <td>1.044868e+06</td>\n",
              "      <td>0.000000e+00</td>\n",
              "      <td>0.000000</td>\n",
              "      <td>1.000000</td>\n",
              "      <td>0.000000</td>\n",
              "      <td>0.000000</td>\n",
              "      <td>0.000000</td>\n",
              "      <td>0.000000</td>\n",
              "      <td>0.000000</td>\n",
              "      <td>1.544631e+04</td>\n",
              "    </tr>\n",
              "    <tr>\n",
              "      <th>max</th>\n",
              "      <td>9.998938e+09</td>\n",
              "      <td>1084.000000</td>\n",
              "      <td>84.000000</td>\n",
              "      <td>100.0</td>\n",
              "      <td>1.000000e+07</td>\n",
              "      <td>1.000000e+07</td>\n",
              "      <td>636577.000000</td>\n",
              "      <td>532784.000000</td>\n",
              "      <td>500.000000</td>\n",
              "      <td>999990.000000</td>\n",
              "      <td>...</td>\n",
              "      <td>1.000000e+07</td>\n",
              "      <td>7.181000e+03</td>\n",
              "      <td>1.000000</td>\n",
              "      <td>1.000000</td>\n",
              "      <td>1.000000</td>\n",
              "      <td>1.000000</td>\n",
              "      <td>1.000000</td>\n",
              "      <td>1.000000</td>\n",
              "      <td>1.000000</td>\n",
              "      <td>2.250900e+06</td>\n",
              "    </tr>\n",
              "  </tbody>\n",
              "</table>\n",
              "<p>8 rows × 32 columns</p>\n",
              "</div>\n",
              "      <button class=\"colab-df-convert\" onclick=\"convertToInteractive('df-27e2c8cd-4f36-4aba-8049-36b3ba7155e1')\"\n",
              "              title=\"Convert this dataframe to an interactive table.\"\n",
              "              style=\"display:none;\">\n",
              "        \n",
              "  <svg xmlns=\"http://www.w3.org/2000/svg\" height=\"24px\"viewBox=\"0 0 24 24\"\n",
              "       width=\"24px\">\n",
              "    <path d=\"M0 0h24v24H0V0z\" fill=\"none\"/>\n",
              "    <path d=\"M18.56 5.44l.94 2.06.94-2.06 2.06-.94-2.06-.94-.94-2.06-.94 2.06-2.06.94zm-11 1L8.5 8.5l.94-2.06 2.06-.94-2.06-.94L8.5 2.5l-.94 2.06-2.06.94zm10 10l.94 2.06.94-2.06 2.06-.94-2.06-.94-.94-2.06-.94 2.06-2.06.94z\"/><path d=\"M17.41 7.96l-1.37-1.37c-.4-.4-.92-.59-1.43-.59-.52 0-1.04.2-1.43.59L10.3 9.45l-7.72 7.72c-.78.78-.78 2.05 0 2.83L4 21.41c.39.39.9.59 1.41.59.51 0 1.02-.2 1.41-.59l7.78-7.78 2.81-2.81c.8-.78.8-2.07 0-2.86zM5.41 20L4 18.59l7.72-7.72 1.47 1.35L5.41 20z\"/>\n",
              "  </svg>\n",
              "      </button>\n",
              "      \n",
              "  <style>\n",
              "    .colab-df-container {\n",
              "      display:flex;\n",
              "      flex-wrap:wrap;\n",
              "      gap: 12px;\n",
              "    }\n",
              "\n",
              "    .colab-df-convert {\n",
              "      background-color: #E8F0FE;\n",
              "      border: none;\n",
              "      border-radius: 50%;\n",
              "      cursor: pointer;\n",
              "      display: none;\n",
              "      fill: #1967D2;\n",
              "      height: 32px;\n",
              "      padding: 0 0 0 0;\n",
              "      width: 32px;\n",
              "    }\n",
              "\n",
              "    .colab-df-convert:hover {\n",
              "      background-color: #E2EBFA;\n",
              "      box-shadow: 0px 1px 2px rgba(60, 64, 67, 0.3), 0px 1px 3px 1px rgba(60, 64, 67, 0.15);\n",
              "      fill: #174EA6;\n",
              "    }\n",
              "\n",
              "    [theme=dark] .colab-df-convert {\n",
              "      background-color: #3B4455;\n",
              "      fill: #D2E3FC;\n",
              "    }\n",
              "\n",
              "    [theme=dark] .colab-df-convert:hover {\n",
              "      background-color: #434B5C;\n",
              "      box-shadow: 0px 1px 3px 1px rgba(0, 0, 0, 0.15);\n",
              "      filter: drop-shadow(0px 1px 2px rgba(0, 0, 0, 0.3));\n",
              "      fill: #FFFFFF;\n",
              "    }\n",
              "  </style>\n",
              "\n",
              "      <script>\n",
              "        const buttonEl =\n",
              "          document.querySelector('#df-27e2c8cd-4f36-4aba-8049-36b3ba7155e1 button.colab-df-convert');\n",
              "        buttonEl.style.display =\n",
              "          google.colab.kernel.accessAllowed ? 'block' : 'none';\n",
              "\n",
              "        async function convertToInteractive(key) {\n",
              "          const element = document.querySelector('#df-27e2c8cd-4f36-4aba-8049-36b3ba7155e1');\n",
              "          const dataTable =\n",
              "            await google.colab.kernel.invokeFunction('convertToInteractive',\n",
              "                                                     [key], {});\n",
              "          if (!dataTable) return;\n",
              "\n",
              "          const docLinkHtml = 'Like what you see? Visit the ' +\n",
              "            '<a target=\"_blank\" href=https://colab.research.google.com/notebooks/data_table.ipynb>data table notebook</a>'\n",
              "            + ' to learn more about interactive tables.';\n",
              "          element.innerHTML = '';\n",
              "          dataTable['output_type'] = 'display_data';\n",
              "          await google.colab.output.renderOutput(dataTable, element);\n",
              "          const docLink = document.createElement('div');\n",
              "          docLink.innerHTML = docLinkHtml;\n",
              "          element.appendChild(docLink);\n",
              "        }\n",
              "      </script>\n",
              "    </div>\n",
              "  </div>\n",
              "  "
            ]
          },
          "metadata": {},
          "execution_count": 10
        }
      ]
    },
    {
      "cell_type": "code",
      "source": [
        "total1=df1.isnull().sum()\n",
        "print(total1)\n",
        "total2=df2.isnull().sum()\n",
        "print(total2)\n",
        "total3=df3.isnull().sum()\n",
        "print(total3)"
      ],
      "metadata": {
        "id": "lqXqrdrPAfJa",
        "outputId": "5f028b91-7af5-47c2-9fae-633778137d68",
        "colab": {
          "base_uri": "https://localhost:8080/"
        }
      },
      "execution_count": null,
      "outputs": [
        {
          "output_type": "stream",
          "name": "stdout",
          "text": [
            "Field Name           0\n",
            "Field Description    0\n",
            "dtype: int64\n",
            "Company     0\n",
            "State       0\n",
            "Source      0\n",
            "Suspects    0\n",
            "dtype: int64\n",
            "LoanNumber                    0\n",
            "DateApproved                  0\n",
            "SBAOfficeCode                 0\n",
            "ProcessingMethod              0\n",
            "BorrowerName                  1\n",
            "                             ..\n",
            "RENT_PROCEED_pct              1\n",
            "REFINANCE_EIDL_PROCEED_pct    1\n",
            "HEALTH_CARE_PROCEED_pct       1\n",
            "DEBT_INTEREST_PROCEED_pct     1\n",
            "PROCEED_Per_Job               1\n",
            "Length: 66, dtype: int64\n"
          ]
        }
      ]
    },
    {
      "cell_type": "code",
      "source": [
        "df1.columns.values\n",
        "df2.columns.values\n",
        "df3.columns.values"
      ],
      "metadata": {
        "colab": {
          "base_uri": "https://localhost:8080/"
        },
        "id": "GIIFazMXBA45",
        "outputId": "4e855384-0eb9-4210-f31b-340beacd1519"
      },
      "execution_count": null,
      "outputs": [
        {
          "output_type": "execute_result",
          "data": {
            "text/plain": [
              "array(['LoanNumber', 'DateApproved', 'SBAOfficeCode', 'ProcessingMethod',\n",
              "       'BorrowerName', 'BorrowerAddress', 'BorrowerCity', 'BorrowerState',\n",
              "       'BorrowerZip', 'LoanStatusDate', 'LoanStatus', 'Term',\n",
              "       'SBAGuarantyPercentage', 'InitialApprovalAmount',\n",
              "       'CurrentApprovalAmount', 'UndisbursedAmount', 'FranchiseName',\n",
              "       'ServicingLenderLocationID', 'ServicingLenderName',\n",
              "       'ServicingLenderAddress', 'ServicingLenderCity',\n",
              "       'ServicingLenderState', 'ServicingLenderZip',\n",
              "       'RuralUrbanIndicator', 'HubzoneIndicator', 'LMIIndicator',\n",
              "       'BusinessAgeDescription', 'ProjectCity', 'ProjectCountyName',\n",
              "       'ProjectState', 'ProjectZip', 'CD', 'JobsReported', 'NAICSCode',\n",
              "       'Race', 'Ethnicity', 'UTILITIES_PROCEED', 'PAYROLL_PROCEED',\n",
              "       'MORTGAGE_INTEREST_PROCEED', 'RENT_PROCEED',\n",
              "       'REFINANCE_EIDL_PROCEED', 'HEALTH_CARE_PROCEED',\n",
              "       'DEBT_INTEREST_PROCEED', 'BusinessType',\n",
              "       'OriginatingLenderLocationID', 'OriginatingLender',\n",
              "       'OriginatingLenderCity', 'OriginatingLenderState', 'Gender',\n",
              "       'Veteran', 'NonProfit', 'ForgivenessAmount', 'ForgivenessDate',\n",
              "       'ApprovalDiff', 'NotForgivenAmount', 'ForgivenPercentage',\n",
              "       'TOTAL_PROCEED', 'PROCEED_Diff', 'UTILITIES_PROCEED_pct',\n",
              "       'PAYROLL_PROCEED_pct', 'MORTGAGE_INTEREST_PROCEED_pct',\n",
              "       'RENT_PROCEED_pct', 'REFINANCE_EIDL_PROCEED_pct',\n",
              "       'HEALTH_CARE_PROCEED_pct', 'DEBT_INTEREST_PROCEED_pct',\n",
              "       'PROCEED_Per_Job'], dtype=object)"
            ]
          },
          "metadata": {},
          "execution_count": 12
        }
      ]
    },
    {
      "cell_type": "code",
      "source": [
        "df1.duplicated().sum()\n",
        "df2.duplicated().sum()\n",
        "df3.duplicated().sum()"
      ],
      "metadata": {
        "colab": {
          "base_uri": "https://localhost:8080/"
        },
        "id": "W5T4snSkBMsN",
        "outputId": "eb1c8a71-c4aa-48de-8e9a-e5f4d26ccd24"
      },
      "execution_count": null,
      "outputs": [
        {
          "output_type": "execute_result",
          "data": {
            "text/plain": [
              "0"
            ]
          },
          "metadata": {},
          "execution_count": 15
        }
      ]
    },
    {
      "cell_type": "markdown",
      "source": [
        "**DATA VISUALIZATION**"
      ],
      "metadata": {
        "id": "hdPdcR_yBovF"
      }
    },
    {
      "cell_type": "markdown",
      "source": [
        "*BAR PLOT*"
      ],
      "metadata": {
        "id": "aWXG_ofxBuJA"
      }
    },
    {
      "cell_type": "code",
      "source": [
        "sns.barplot(data=df3,x=\"Term\",y=\"InitialApprovalAmount\")"
      ],
      "metadata": {
        "colab": {
          "base_uri": "https://localhost:8080/",
          "height": 307
        },
        "id": "q72h19yM_Xb7",
        "outputId": "48bfa71d-0808-44de-d45d-3d0b7ba6294a"
      },
      "execution_count": null,
      "outputs": [
        {
          "output_type": "execute_result",
          "data": {
            "text/plain": [
              "<matplotlib.axes._subplots.AxesSubplot at 0x7fe9d3041c50>"
            ]
          },
          "metadata": {},
          "execution_count": 16
        },
        {
          "output_type": "display_data",
          "data": {
            "text/plain": [
              "<Figure size 432x288 with 1 Axes>"
            ],
            "image/png": "[encoded data removed]"
          },
          "metadata": {
            "needs_background": "light"
          }
        }
      ]
    },
    {
      "cell_type": "markdown",
      "source": [
        "*HEAT MAP*"
      ],
      "metadata": {
        "id": "DeXvOUwjBysQ"
      }
    },
    {
      "cell_type": "code",
      "source": [
        "sns.heatmap(df2.isnull())"
      ],
      "metadata": {
        "colab": {
          "base_uri": "https://localhost:8080/",
          "height": 286
        },
        "id": "UI0L0UlnB1qu",
        "outputId": "0cc3af61-9b55-481e-cd00-a9c402c3db50"
      },
      "execution_count": null,
      "outputs": [
        {
          "output_type": "execute_result",
          "data": {
            "text/plain": [
              "<matplotlib.axes._subplots.AxesSubplot at 0x7fe9d2e0e9d0>"
            ]
          },
          "metadata": {},
          "execution_count": 17
        },
        {
          "output_type": "display_data",
          "data": {
            "text/plain": [
              "<Figure size 432x288 with 2 Axes>"
            ],
            "image/png": "[encoded data removed]"
          },
          "metadata": {
            "needs_background": "light"
          }
        }
      ]
    },
    {
      "cell_type": "markdown",
      "source": [
        "*LINE PLOT*"
      ],
      "metadata": {
        "id": "ZiGu5oDACCmC"
      }
    },
    {
      "cell_type": "code",
      "source": [
        "sns.lineplot(data=df3,x=\"Term\",y=\"InitialApprovalAmount\")\n",
        "plt.show()"
      ],
      "metadata": {
        "colab": {
          "base_uri": "https://localhost:8080/",
          "height": 290
        },
        "id": "lDd8DjoUCI1f",
        "outputId": "07b0544d-7dcb-4592-c23e-56c574029448"
      },
      "execution_count": null,
      "outputs": [
        {
          "output_type": "display_data",
          "data": {
            "text/plain": [
              "<Figure size 432x288 with 1 Axes>"
            ],
            "image/png": "[encoded data removed]"
          },
          "metadata": {
            "needs_background": "light"
          }
        }
      ]
    },
    {
      "cell_type": "markdown",
      "source": [
        "*COUNT PLOT*"
      ],
      "metadata": {
        "id": "h3tgAQINCzQu"
      }
    },
    {
      "cell_type": "code",
      "source": [
        "sns.set_style('darkgrid')\n",
        "sns.countplot(x=\"SBAGuarantyPercentage\",hue=\"SBAOfficeCode\",data=df3,palette=\"BuGn\")"
      ],
      "metadata": {
        "colab": {
          "base_uri": "https://localhost:8080/",
          "height": 372
        },
        "id": "Gp2nP8zPCxV4",
        "outputId": "4b93887a-0e94-4242-f09e-af182bc4ccd5"
      },
      "execution_count": null,
      "outputs": [
        {
          "output_type": "execute_result",
          "data": {
            "text/plain": [
              "<matplotlib.axes._subplots.AxesSubplot at 0x7fe9d006c390>"
            ]
          },
          "metadata": {},
          "execution_count": 22
        },
        {
          "output_type": "display_data",
          "data": {
            "text/plain": [
              "<Figure size 432x288 with 1 Axes>"
            ],
            "image/png": "[encoded data removed]"
          },
          "metadata": {}
        }
      ]
    },
    {
      "cell_type": "markdown",
      "source": [
        "*DIST PLOT*"
      ],
      "metadata": {
        "id": "QEeBhlPlEAXb"
      }
    },
    {
      "cell_type": "code",
      "source": [
        "sns.distplot(df3['ForgivenPercentage'].dropna(),color=\"blue\",bins=10)"
      ],
      "metadata": {
        "id": "dwa8sYY_D3gf",
        "colab": {
          "base_uri": "https://localhost:8080/",
          "height": 351
        },
        "outputId": "bc703fd4-9ac0-4bd4-ba9a-7ba0503702ef"
      },
      "execution_count": null,
      "outputs": [
        {
          "output_type": "stream",
          "name": "stderr",
          "text": [
            "/usr/local/lib/python3.7/dist-packages/seaborn/distributions.py:2619: FutureWarning: `distplot` is a deprecated function and will be removed in a future version. Please adapt your code to use either `displot` (a figure-level function with similar flexibility) or `histplot` (an axes-level function for histograms).\n",
            "  warnings.warn(msg, FutureWarning)\n"
          ]
        },
        {
          "output_type": "execute_result",
          "data": {
            "text/plain": [
              "<matplotlib.axes._subplots.AxesSubplot at 0x7fe9cfecb190>"
            ]
          },
          "metadata": {},
          "execution_count": 23
        },
        {
          "output_type": "display_data",
          "data": {
            "text/plain": [
              "<Figure size 432x288 with 1 Axes>"
            ],
            "image/png": "[encoded data removed]"
          },
          "metadata": {}
        }
      ]
    },
    {
      "cell_type": "markdown",
      "source": [
        "*BOX PLOT*"
      ],
      "metadata": {
        "id": "Rs73yIMNF9QH"
      }
    },
    {
      "cell_type": "code",
      "source": [
        "plt.figure(figsize=(10,8))\n",
        "sns.boxplot(x=\"SBAOfficeCode\",y=\"PAYROLL_PROCEED_pct\",data=df3)"
      ],
      "metadata": {
        "colab": {
          "base_uri": "https://localhost:8080/",
          "height": 514
        },
        "id": "ziyhgTSaGEAH",
        "outputId": "b39909fd-87f9-4b81-95e5-41d680c95f50"
      },
      "execution_count": null,
      "outputs": [
        {
          "output_type": "execute_result",
          "data": {
            "text/plain": [
              "<matplotlib.axes._subplots.AxesSubplot at 0x7fe9cdde6910>"
            ]
          },
          "metadata": {},
          "execution_count": 24
        },
        {
          "output_type": "display_data",
          "data": {
            "text/plain": [
              "<Figure size 720x576 with 1 Axes>"
            ],
            "image/png": "[encoded data removed]"
          },
          "metadata": {}
        }
      ]
    },
    {
      "cell_type": "markdown",
      "source": [
        "*SCATTER PLOT*"
      ],
      "metadata": {
        "id": "Xp-lEo5pHENF"
      }
    },
    {
      "cell_type": "code",
      "source": [
        "plt.figure(figsize=(6,6))\n",
        "sns.scatterplot(x=\"SBAOfficeCode\",y=\"PROCEED_Diff\",data=df3)"
      ],
      "metadata": {
        "colab": {
          "base_uri": "https://localhost:8080/",
          "height": 405
        },
        "id": "oKf8sDhhHItH",
        "outputId": "ed0678e4-0cfe-44cb-a072-c24323696f18"
      },
      "execution_count": null,
      "outputs": [
        {
          "output_type": "execute_result",
          "data": {
            "text/plain": [
              "<matplotlib.axes._subplots.AxesSubplot at 0x7fe9cdddae10>"
            ]
          },
          "metadata": {},
          "execution_count": 25
        },
        {
          "output_type": "display_data",
          "data": {
            "text/plain": [
              "<Figure size 432x432 with 1 Axes>"
            ],
            "image/png": "[encoded data removed]"
          },
          "metadata": {}
        }
      ]
    }
  ]
}