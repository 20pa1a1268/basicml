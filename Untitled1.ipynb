{
  "nbformat": 4,
  "nbformat_minor": 0,
  "metadata": {
    "colab": {
      "name": "Untitled1.ipynb",
      "provenance": [],
      "authorship_tag": "ABX9TyOVeDQOaxvGcajKoPloGbtl",
      "include_colab_link": true
    },
    "kernelspec": {
      "name": "python3",
      "display_name": "Python 3"
    },
    "language_info": {
      "name": "python"
    }
  },
  "cells": [
    {
      "cell_type": "markdown",
      "metadata": {
        "id": "view-in-github",
        "colab_type": "text"
      },
      "source": [
        "<a href=\"https://colab.research.google.com/github/kiranmayi19/basicml/blob/main/Untitled1.ipynb\" target=\"_parent\"><img src=\"https://colab.research.google.com/assets/colab-badge.svg\" alt=\"Open In Colab\"/></a>"
      ]
    },
    {
      "cell_type": "markdown",
      "source": [
        "printing a array"
      ],
      "metadata": {
        "id": "gK73ZIBAJzSD"
      }
    },
    {
      "cell_type": "code",
      "source": [
        "import numpy as np\n",
        "a=np.array([2,4,6])\n",
        "print(a)"
      ],
      "metadata": {
        "colab": {
          "base_uri": "https://localhost:8080/"
        },
        "id": "EcSa38V-JbQ7",
        "outputId": "8d44815e-449c-485f-f3e4-9312e22b4a04"
      },
      "execution_count": 11,
      "outputs": [
        {
          "output_type": "stream",
          "name": "stdout",
          "text": [
            "[2 4 6]\n"
          ]
        }
      ]
    },
    {
      "cell_type": "markdown",
      "source": [
        "adding arrays"
      ],
      "metadata": {
        "id": "L8qkad-jJ7XN"
      }
    },
    {
      "cell_type": "code",
      "source": [
        "b=np.array([[1,2,3],[4,5,6]])\n",
        "print(b)"
      ],
      "metadata": {
        "colab": {
          "base_uri": "https://localhost:8080/"
        },
        "id": "j3T6Y8_jJ_1_",
        "outputId": "7f6e0743-6844-4836-908f-e2836781c124"
      },
      "execution_count": 12,
      "outputs": [
        {
          "output_type": "stream",
          "name": "stdout",
          "text": [
            "[[1 2 3]\n",
            " [4 5 6]]\n"
          ]
        }
      ]
    },
    {
      "cell_type": "markdown",
      "source": [
        "printing numbers within a range of interval"
      ],
      "metadata": {
        "id": "weWT6NQ8Jxhr"
      }
    },
    {
      "cell_type": "code",
      "source": [
        "c=np.arange(2,101,2)\n",
        "print(\"The first 50 even numbers \")\n",
        "print(c)"
      ],
      "metadata": {
        "colab": {
          "base_uri": "https://localhost:8080/"
        },
        "id": "nCWWfkc5KZJ2",
        "outputId": "68039034-6410-4273-fe0b-c1184fa7a2c3"
      },
      "execution_count": 14,
      "outputs": [
        {
          "output_type": "stream",
          "name": "stdout",
          "text": [
            "The first 50 even numbers \n",
            "[  2   4   6   8  10  12  14  16  18  20  22  24  26  28  30  32  34  36\n",
            "  38  40  42  44  46  48  50  52  54  56  58  60  62  64  66  68  70  72\n",
            "  74  76  78  80  82  84  86  88  90  92  94  96  98 100]\n"
          ]
        }
      ]
    },
    {
      "cell_type": "markdown",
      "source": [
        "adding elements in an array"
      ],
      "metadata": {
        "id": "ZG3FCyJrR-Dk"
      }
    },
    {
      "cell_type": "code",
      "source": [
        "d=np.append(a,[8,10,11])\n",
        "print(d)"
      ],
      "metadata": {
        "colab": {
          "base_uri": "https://localhost:8080/"
        },
        "id": "fWJPfZt5SB36",
        "outputId": "4c6bcd12-f8e9-4786-ed72-45a1e5950e89"
      },
      "execution_count": 16,
      "outputs": [
        {
          "output_type": "stream",
          "name": "stdout",
          "text": [
            "[ 2  4  6  8 10 11]\n"
          ]
        }
      ]
    },
    {
      "cell_type": "markdown",
      "source": [
        "deleting elements in an array"
      ],
      "metadata": {
        "id": "AuTN2lgBSiek"
      }
    },
    {
      "cell_type": "code",
      "source": [
        "e=np.delete(d,4)\n",
        "print(e)"
      ],
      "metadata": {
        "colab": {
          "base_uri": "https://localhost:8080/"
        },
        "id": "rucCM085SxSC",
        "outputId": "455100ab-356f-4ff0-9fe8-8293f5aeb29f"
      },
      "execution_count": 20,
      "outputs": [
        {
          "output_type": "stream",
          "name": "stdout",
          "text": [
            "[ 2  4  6  8 11]\n"
          ]
        }
      ]
    },
    {
      "cell_type": "markdown",
      "source": [
        "modifying the element"
      ],
      "metadata": {
        "id": "SwZPSMKxT7rH"
      }
    },
    {
      "cell_type": "code",
      "source": [
        "f = np.array([8,3,4,5,6,2])\n",
        "f[f<4] = -1 \n",
        "print(f)"
      ],
      "metadata": {
        "colab": {
          "base_uri": "https://localhost:8080/"
        },
        "id": "ybnI4R4wUCbV",
        "outputId": "6472fffb-0351-4318-f5ae-a811ea3d5884"
      },
      "execution_count": 26,
      "outputs": [
        {
          "output_type": "stream",
          "name": "stdout",
          "text": [
            "[ 8 -1  4  5  6 -1]\n"
          ]
        }
      ]
    },
    {
      "cell_type": "markdown",
      "source": [
        "arithmetic operations"
      ],
      "metadata": {
        "id": "Uc6HjmoJpdbM"
      }
    },
    {
      "cell_type": "code",
      "source": [
        "a = np.array( [10,20,30,40] )\n",
        "b = np.arange( 4 )\n",
        "print(\"The elements in a are\",a)\n",
        "print(\"The elements in b are\",b)\n",
        "\n",
        "print(\"Result after Addition\",a+b)\n",
        "print(\"Result after substraction\",a-b)\n",
        "print(\"Result after multiplication\",a*b)\n",
        "print(\"Result after division\",a/b) \n",
        "\n",
        "print(\"Result after increasing the number to the power of 4\",b**4) \n",
        "\n",
        "print(\"Result after applying sin and multiplying with 10\",10*np.sin(a)) \n",
        "\n",
        "a[0] +=10 \n",
        "print(\"Result after adding first element with 10\",a)\n",
        "\n",
        "print(np.dot(a,b)) "
      ],
      "metadata": {
        "colab": {
          "base_uri": "https://localhost:8080/"
        },
        "id": "K8H-ugTSph-5",
        "outputId": "09183672-6f8a-4061-e594-1b6e49a79c24"
      },
      "execution_count": 27,
      "outputs": [
        {
          "output_type": "stream",
          "name": "stdout",
          "text": [
            "The elements in a are [10 20 30 40]\n",
            "The elements in b are [0 1 2 3]\n",
            "Result after Addition [10 21 32 43]\n",
            "Result after substraction [10 19 28 37]\n",
            "Result after multiplication [  0  20  60 120]\n",
            "Result after division [        inf 20.         15.         13.33333333]\n",
            "Result after increasing the number to the power of 4 [ 0  1 16 81]\n",
            "Result after applying sin and multiplying with 10 [-5.44021111  9.12945251 -9.88031624  7.4511316 ]\n",
            "Result after adding first element with 10 [20 20 30 40]\n",
            "200\n"
          ]
        },
        {
          "output_type": "stream",
          "name": "stderr",
          "text": [
            "/usr/local/lib/python3.7/dist-packages/ipykernel_launcher.py:9: RuntimeWarning: divide by zero encountered in true_divide\n",
            "  if __name__ == '__main__':\n"
          ]
        }
      ]
    }
  ]
}